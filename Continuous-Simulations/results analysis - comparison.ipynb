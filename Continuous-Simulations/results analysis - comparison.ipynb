{
 "cells": [
  {
   "cell_type": "code",
   "execution_count": 2,
   "id": "0a1503ad",
   "metadata": {},
   "outputs": [],
   "source": [
    "import matplotlib.pyplot as plt\n",
    "import numpy as np\n",
    "import seaborn as sns\n",
    "import pandas as pd"
   ]
  },
  {
   "cell_type": "code",
   "execution_count": 15,
   "id": "bba1112d",
   "metadata": {},
   "outputs": [],
   "source": [
    "d = {'Reinforce': [49.23, 47.69, 61.53, 57.43, 48.71], 'SAC': [ 40.51, 48.20, 46.15, 33.84, 50.76],\n",
    "     'PPO': [55.89, 43.07, 67.69, 61.02, 61.53], 'Baseline': [78.97, 77.43, 70.25, 77.43, 71.79]\n",
    "    }\n",
    "df = pd.DataFrame(data=d)\n",
    "result = df"
   ]
  },
  {
   "cell_type": "code",
   "execution_count": 16,
   "id": "407df4cb",
   "metadata": {},
   "outputs": [
    {
     "data": {
      "image/png": "[encoded data removed]",
      "text/plain": [
       "<Figure size 432x288 with 1 Axes>"
      ]
     },
     "metadata": {
      "needs_background": "light"
     },
     "output_type": "display_data"
    }
   ],
   "source": [
    "boxplot = df.boxplot(column=['SAC', 'Reinforce', 'PPO', 'Baseline'])  "
   ]
  }
 ],
 "metadata": {
  "kernelspec": {
   "display_name": "Python 3 (ipykernel)",
   "language": "python",
   "name": "python3"
  },
  "language_info": {
   "codemirror_mode": {
    "name": "ipython",
    "version": 3
   },
   "file_extension": ".py",
   "mimetype": "text/x-python",
   "name": "python",
   "nbconvert_exporter": "python",
   "pygments_lexer": "ipython3",
   "version": "3.9.7"
  }
 },
 "nbformat": 4,
 "nbformat_minor": 5
}
