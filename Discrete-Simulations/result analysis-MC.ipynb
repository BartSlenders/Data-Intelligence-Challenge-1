{
 "cells": [
  {
   "cell_type": "code",
   "execution_count": 49,
   "id": "97f09f44",
   "metadata": {},
   "outputs": [],
   "source": [
    "import matplotlib.pyplot as plt\n",
    "import numpy as np\n",
    "import seaborn as sns\n",
    "import pandas as pd\n",
    "\n",
    "# Read dataframe from csv and trim the data\n",
    "df = pd.read_csv(\"results.csv\")"
   ]
  },
  {
   "cell_type": "code",
   "execution_count": 50,
   "id": "2df0439a",
   "metadata": {},
   "outputs": [],
   "source": [
    "df['new']=df['cleaned']*2+df['efficiency']"
   ]
  },
  {
   "cell_type": "code",
   "execution_count": 51,
   "id": "225a6c29",
   "metadata": {},
   "outputs": [],
   "source": [
    "df['new2']=df['cleaned']*df['efficiency']/100"
   ]
  },
  {
   "cell_type": "code",
   "execution_count": 52,
   "id": "45d85b65",
   "metadata": {},
   "outputs": [
    {
     "data": {
      "text/html": [
       "<div>\n",
       "<style scoped>\n",
       "    .dataframe tbody tr th:only-of-type {\n",
       "        vertical-align: middle;\n",
       "    }\n",
       "\n",
       "    .dataframe tbody tr th {\n",
       "        vertical-align: top;\n",
       "    }\n",
       "\n",
       "    .dataframe thead th {\n",
       "        text-align: right;\n",
       "    }\n",
       "</style>\n",
       "<table border=\"1\" class=\"dataframe\">\n",
       "  <thead>\n",
       "    <tr style=\"text-align: right;\">\n",
       "      <th></th>\n",
       "      <th>Unnamed: 0</th>\n",
       "      <th>gamma</th>\n",
       "      <th>epsilon</th>\n",
       "      <th>episodes</th>\n",
       "      <th>steps</th>\n",
       "      <th>cleaned</th>\n",
       "      <th>efficiency</th>\n",
       "      <th>new</th>\n",
       "      <th>new2</th>\n",
       "    </tr>\n",
       "  </thead>\n",
       "  <tbody>\n",
       "    <tr>\n",
       "      <th>556</th>\n",
       "      <td>556</td>\n",
       "      <td>0.9</td>\n",
       "      <td>0.10</td>\n",
       "      <td>300.0</td>\n",
       "      <td>100.0</td>\n",
       "      <td>15.686275</td>\n",
       "      <td>33.993399</td>\n",
       "      <td>65.365948</td>\n",
       "      <td>5.332298</td>\n",
       "    </tr>\n",
       "    <tr>\n",
       "      <th>466</th>\n",
       "      <td>466</td>\n",
       "      <td>0.9</td>\n",
       "      <td>0.05</td>\n",
       "      <td>150.0</td>\n",
       "      <td>100.0</td>\n",
       "      <td>15.686275</td>\n",
       "      <td>34.333333</td>\n",
       "      <td>65.705882</td>\n",
       "      <td>5.385621</td>\n",
       "    </tr>\n",
       "    <tr>\n",
       "      <th>537</th>\n",
       "      <td>537</td>\n",
       "      <td>0.9</td>\n",
       "      <td>0.10</td>\n",
       "      <td>150.0</td>\n",
       "      <td>100.0</td>\n",
       "      <td>15.686275</td>\n",
       "      <td>35.888502</td>\n",
       "      <td>67.261051</td>\n",
       "      <td>5.629569</td>\n",
       "    </tr>\n",
       "    <tr>\n",
       "      <th>539</th>\n",
       "      <td>539</td>\n",
       "      <td>0.9</td>\n",
       "      <td>0.10</td>\n",
       "      <td>150.0</td>\n",
       "      <td>100.0</td>\n",
       "      <td>15.686275</td>\n",
       "      <td>36.267606</td>\n",
       "      <td>67.640155</td>\n",
       "      <td>5.689036</td>\n",
       "    </tr>\n",
       "    <tr>\n",
       "      <th>538</th>\n",
       "      <td>538</td>\n",
       "      <td>0.9</td>\n",
       "      <td>0.10</td>\n",
       "      <td>150.0</td>\n",
       "      <td>100.0</td>\n",
       "      <td>15.686275</td>\n",
       "      <td>37.591241</td>\n",
       "      <td>68.963790</td>\n",
       "      <td>5.896665</td>\n",
       "    </tr>\n",
       "    <tr>\n",
       "      <th>...</th>\n",
       "      <td>...</td>\n",
       "      <td>...</td>\n",
       "      <td>...</td>\n",
       "      <td>...</td>\n",
       "      <td>...</td>\n",
       "      <td>...</td>\n",
       "      <td>...</td>\n",
       "      <td>...</td>\n",
       "      <td>...</td>\n",
       "    </tr>\n",
       "    <tr>\n",
       "      <th>85</th>\n",
       "      <td>85</td>\n",
       "      <td>0.5</td>\n",
       "      <td>0.10</td>\n",
       "      <td>50.0</td>\n",
       "      <td>50.0</td>\n",
       "      <td>98.039216</td>\n",
       "      <td>49.519231</td>\n",
       "      <td>245.597662</td>\n",
       "      <td>48.548265</td>\n",
       "    </tr>\n",
       "    <tr>\n",
       "      <th>345</th>\n",
       "      <td>345</td>\n",
       "      <td>0.7</td>\n",
       "      <td>0.10</td>\n",
       "      <td>500.0</td>\n",
       "      <td>6.0</td>\n",
       "      <td>98.039216</td>\n",
       "      <td>50.000000</td>\n",
       "      <td>246.078431</td>\n",
       "      <td>49.019608</td>\n",
       "    </tr>\n",
       "    <tr>\n",
       "      <th>21</th>\n",
       "      <td>21</td>\n",
       "      <td>0.5</td>\n",
       "      <td>0.05</td>\n",
       "      <td>150.0</td>\n",
       "      <td>6.0</td>\n",
       "      <td>99.019608</td>\n",
       "      <td>52.284264</td>\n",
       "      <td>250.323480</td>\n",
       "      <td>51.771673</td>\n",
       "    </tr>\n",
       "    <tr>\n",
       "      <th>187</th>\n",
       "      <td>187</td>\n",
       "      <td>0.5</td>\n",
       "      <td>0.20</td>\n",
       "      <td>300.0</td>\n",
       "      <td>12.0</td>\n",
       "      <td>99.019608</td>\n",
       "      <td>59.195402</td>\n",
       "      <td>257.234618</td>\n",
       "      <td>58.615055</td>\n",
       "    </tr>\n",
       "    <tr>\n",
       "      <th>148</th>\n",
       "      <td>148</td>\n",
       "      <td>0.5</td>\n",
       "      <td>0.20</td>\n",
       "      <td>50.0</td>\n",
       "      <td>6.0</td>\n",
       "      <td>100.000000</td>\n",
       "      <td>50.990099</td>\n",
       "      <td>250.990099</td>\n",
       "      <td>50.990099</td>\n",
       "    </tr>\n",
       "  </tbody>\n",
       "</table>\n",
       "<p>648 rows × 9 columns</p>\n",
       "</div>"
      ],
      "text/plain": [
       "     Unnamed: 0  gamma  epsilon  episodes  steps     cleaned  efficiency  \\\n",
       "556         556    0.9     0.10     300.0  100.0   15.686275   33.993399   \n",
       "466         466    0.9     0.05     150.0  100.0   15.686275   34.333333   \n",
       "537         537    0.9     0.10     150.0  100.0   15.686275   35.888502   \n",
       "539         539    0.9     0.10     150.0  100.0   15.686275   36.267606   \n",
       "538         538    0.9     0.10     150.0  100.0   15.686275   37.591241   \n",
       "..          ...    ...      ...       ...    ...         ...         ...   \n",
       "85           85    0.5     0.10      50.0   50.0   98.039216   49.519231   \n",
       "345         345    0.7     0.10     500.0    6.0   98.039216   50.000000   \n",
       "21           21    0.5     0.05     150.0    6.0   99.019608   52.284264   \n",
       "187         187    0.5     0.20     300.0   12.0   99.019608   59.195402   \n",
       "148         148    0.5     0.20      50.0    6.0  100.000000   50.990099   \n",
       "\n",
       "            new       new2  \n",
       "556   65.365948   5.332298  \n",
       "466   65.705882   5.385621  \n",
       "537   67.261051   5.629569  \n",
       "539   67.640155   5.689036  \n",
       "538   68.963790   5.896665  \n",
       "..          ...        ...  \n",
       "85   245.597662  48.548265  \n",
       "345  246.078431  49.019608  \n",
       "21   250.323480  51.771673  \n",
       "187  257.234618  58.615055  \n",
       "148  250.990099  50.990099  \n",
       "\n",
       "[648 rows x 9 columns]"
      ]
     },
     "execution_count": 52,
     "metadata": {},
     "output_type": "execute_result"
    }
   ],
   "source": [
    "df.sort_values(by=['cleaned', 'efficiency'])"
   ]
  },
  {
   "cell_type": "code",
   "execution_count": 53,
   "id": "8de8af27",
   "metadata": {},
   "outputs": [],
   "source": [
    "grp = df.groupby(['gamma','epsilon','episodes','steps'])"
   ]
  },
  {
   "cell_type": "code",
   "execution_count": 54,
   "id": "0ff54cad",
   "metadata": {},
   "outputs": [],
   "source": [
    "x =grp.mean().sort_values(by=['cleaned', 'efficiency'])"
   ]
  },
  {
   "cell_type": "code",
   "execution_count": 55,
   "id": "fc1716e0",
   "metadata": {},
   "outputs": [],
   "source": [
    "x = x.reset_index()"
   ]
  },
  {
   "cell_type": "code",
   "execution_count": 56,
   "id": "1e2c80ff",
   "metadata": {},
   "outputs": [
    {
     "data": {
      "image/png": "[encoded data removed]",
      "text/plain": [
       "<Figure size 432x288 with 2 Axes>"
      ]
     },
     "metadata": {
      "needs_background": "light"
     },
     "output_type": "display_data"
    },
    {
     "data": {
      "image/png": "[encoded data removed]",
      "text/plain": [
       "<Figure size 432x288 with 2 Axes>"
      ]
     },
     "metadata": {
      "needs_background": "light"
     },
     "output_type": "display_data"
    }
   ],
   "source": [
    "gropued = df.groupby(['episodes','steps'])\n",
    "avg_cln = gropued['cleaned'].mean().unstack()\n",
    "sns.heatmap(avg_cln)\n",
    "plt.title(\"average cleanliness\")\n",
    "#plt.savefig('mc-500x100-clean.png')\n",
    "plt.show()\n",
    "gropued = df.groupby(['episodes','steps'])\n",
    "avg_cln = gropued['efficiency'].mean().unstack()\n",
    "sns.heatmap(avg_cln)\n",
    "plt.title(\"average efficiency\")\n",
    "#plt.savefig('mc-500x100-eff.png')\n",
    "plt.show()"
   ]
  },
  {
   "cell_type": "code",
   "execution_count": 57,
   "id": "7c58f4ef",
   "metadata": {},
   "outputs": [
    {
     "name": "stdout",
     "output_type": "stream",
     "text": [
      "Correlation between  cleaned  and  efficiency is:  0.87\n"
     ]
    }
   ],
   "source": [
    "col1, col2 = \"cleaned\", \"efficiency\"\n",
    "corr = x[col1].corr(x[col2])\n",
    "print(\"Correlation between \", col1, \" and \", col2, \"is: \", round(corr, 2))"
   ]
  },
  {
   "cell_type": "code",
   "execution_count": 58,
   "id": "989b0039",
   "metadata": {},
   "outputs": [
    {
     "data": {
      "text/html": [
       "<div>\n",
       "<style scoped>\n",
       "    .dataframe tbody tr th:only-of-type {\n",
       "        vertical-align: middle;\n",
       "    }\n",
       "\n",
       "    .dataframe tbody tr th {\n",
       "        vertical-align: top;\n",
       "    }\n",
       "\n",
       "    .dataframe thead th {\n",
       "        text-align: right;\n",
       "    }\n",
       "</style>\n",
       "<table border=\"1\" class=\"dataframe\">\n",
       "  <thead>\n",
       "    <tr style=\"text-align: right;\">\n",
       "      <th></th>\n",
       "      <th>gamma</th>\n",
       "      <th>epsilon</th>\n",
       "      <th>episodes</th>\n",
       "      <th>steps</th>\n",
       "      <th>Unnamed: 0</th>\n",
       "      <th>cleaned</th>\n",
       "      <th>efficiency</th>\n",
       "      <th>new</th>\n",
       "      <th>new2</th>\n",
       "    </tr>\n",
       "  </thead>\n",
       "  <tbody>\n",
       "    <tr>\n",
       "      <th>98</th>\n",
       "      <td>0.5</td>\n",
       "      <td>0.20</td>\n",
       "      <td>500.0</td>\n",
       "      <td>3.0</td>\n",
       "      <td>199.0</td>\n",
       "      <td>54.248366</td>\n",
       "      <td>43.585799</td>\n",
       "      <td>152.082531</td>\n",
       "      <td>23.659591</td>\n",
       "    </tr>\n",
       "    <tr>\n",
       "      <th>124</th>\n",
       "      <td>0.5</td>\n",
       "      <td>0.10</td>\n",
       "      <td>500.0</td>\n",
       "      <td>3.0</td>\n",
       "      <td>127.0</td>\n",
       "      <td>58.823529</td>\n",
       "      <td>41.918224</td>\n",
       "      <td>159.565283</td>\n",
       "      <td>24.707976</td>\n",
       "    </tr>\n",
       "    <tr>\n",
       "      <th>161</th>\n",
       "      <td>0.7</td>\n",
       "      <td>0.20</td>\n",
       "      <td>500.0</td>\n",
       "      <td>3.0</td>\n",
       "      <td>415.0</td>\n",
       "      <td>64.052288</td>\n",
       "      <td>44.344132</td>\n",
       "      <td>172.448708</td>\n",
       "      <td>28.499525</td>\n",
       "    </tr>\n",
       "    <tr>\n",
       "      <th>170</th>\n",
       "      <td>0.5</td>\n",
       "      <td>0.05</td>\n",
       "      <td>500.0</td>\n",
       "      <td>3.0</td>\n",
       "      <td>55.0</td>\n",
       "      <td>66.993464</td>\n",
       "      <td>45.264565</td>\n",
       "      <td>179.251493</td>\n",
       "      <td>31.062593</td>\n",
       "    </tr>\n",
       "    <tr>\n",
       "      <th>183</th>\n",
       "      <td>0.9</td>\n",
       "      <td>0.05</td>\n",
       "      <td>500.0</td>\n",
       "      <td>3.0</td>\n",
       "      <td>487.0</td>\n",
       "      <td>69.934641</td>\n",
       "      <td>47.024773</td>\n",
       "      <td>186.894054</td>\n",
       "      <td>34.201666</td>\n",
       "    </tr>\n",
       "    <tr>\n",
       "      <th>202</th>\n",
       "      <td>0.9</td>\n",
       "      <td>0.10</td>\n",
       "      <td>500.0</td>\n",
       "      <td>3.0</td>\n",
       "      <td>559.0</td>\n",
       "      <td>74.836601</td>\n",
       "      <td>44.718147</td>\n",
       "      <td>194.391350</td>\n",
       "      <td>34.040515</td>\n",
       "    </tr>\n",
       "    <tr>\n",
       "      <th>203</th>\n",
       "      <td>0.7</td>\n",
       "      <td>0.10</td>\n",
       "      <td>500.0</td>\n",
       "      <td>3.0</td>\n",
       "      <td>343.0</td>\n",
       "      <td>74.836601</td>\n",
       "      <td>44.874699</td>\n",
       "      <td>194.547902</td>\n",
       "      <td>33.950967</td>\n",
       "    </tr>\n",
       "    <tr>\n",
       "      <th>214</th>\n",
       "      <td>0.9</td>\n",
       "      <td>0.20</td>\n",
       "      <td>500.0</td>\n",
       "      <td>3.0</td>\n",
       "      <td>631.0</td>\n",
       "      <td>84.967320</td>\n",
       "      <td>48.473114</td>\n",
       "      <td>218.407754</td>\n",
       "      <td>41.489648</td>\n",
       "    </tr>\n",
       "    <tr>\n",
       "      <th>215</th>\n",
       "      <td>0.7</td>\n",
       "      <td>0.05</td>\n",
       "      <td>500.0</td>\n",
       "      <td>3.0</td>\n",
       "      <td>271.0</td>\n",
       "      <td>87.254902</td>\n",
       "      <td>50.992203</td>\n",
       "      <td>225.502007</td>\n",
       "      <td>44.775239</td>\n",
       "    </tr>\n",
       "  </tbody>\n",
       "</table>\n",
       "</div>"
      ],
      "text/plain": [
       "     gamma  epsilon  episodes  steps  Unnamed: 0    cleaned  efficiency  \\\n",
       "98     0.5     0.20     500.0    3.0       199.0  54.248366   43.585799   \n",
       "124    0.5     0.10     500.0    3.0       127.0  58.823529   41.918224   \n",
       "161    0.7     0.20     500.0    3.0       415.0  64.052288   44.344132   \n",
       "170    0.5     0.05     500.0    3.0        55.0  66.993464   45.264565   \n",
       "183    0.9     0.05     500.0    3.0       487.0  69.934641   47.024773   \n",
       "202    0.9     0.10     500.0    3.0       559.0  74.836601   44.718147   \n",
       "203    0.7     0.10     500.0    3.0       343.0  74.836601   44.874699   \n",
       "214    0.9     0.20     500.0    3.0       631.0  84.967320   48.473114   \n",
       "215    0.7     0.05     500.0    3.0       271.0  87.254902   50.992203   \n",
       "\n",
       "            new       new2  \n",
       "98   152.082531  23.659591  \n",
       "124  159.565283  24.707976  \n",
       "161  172.448708  28.499525  \n",
       "170  179.251493  31.062593  \n",
       "183  186.894054  34.201666  \n",
       "202  194.391350  34.040515  \n",
       "203  194.547902  33.950967  \n",
       "214  218.407754  41.489648  \n",
       "215  225.502007  44.775239  "
      ]
     },
     "execution_count": 58,
     "metadata": {},
     "output_type": "execute_result"
    }
   ],
   "source": [
    "mask = (x[\"steps\"]==3) & (x[\"episodes\"]==500)\n",
    "y = x[mask]\n",
    "y"
   ]
  },
  {
   "cell_type": "code",
   "execution_count": 59,
   "id": "b3676402",
   "metadata": {},
   "outputs": [
    {
     "name": "stdout",
     "output_type": "stream",
     "text": [
      "<class 'pandas.core.frame.DataFrame'>\n",
      "RangeIndex: 244 entries, 0 to 243\n",
      "Data columns (total 7 columns):\n",
      " #   Column      Non-Null Count  Dtype   \n",
      "---  ------      --------------  -----   \n",
      " 0   total_bill  244 non-null    float64 \n",
      " 1   tip         244 non-null    float64 \n",
      " 2   sex         244 non-null    category\n",
      " 3   smoker      244 non-null    category\n",
      " 4   day         244 non-null    category\n",
      " 5   time        244 non-null    category\n",
      " 6   size        244 non-null    int64   \n",
      "dtypes: category(4), float64(2), int64(1)\n",
      "memory usage: 7.4 KB\n"
     ]
    }
   ],
   "source": [
    "import seaborn as sns\n",
    "tips = sns.load_dataset(\"tips\")\n",
    "tips.info()"
   ]
  },
  {
   "cell_type": "code",
   "execution_count": 60,
   "id": "4624969f",
   "metadata": {},
   "outputs": [
    {
     "data": {
      "image/png": "[encoded data removed]",
      "text/plain": [
       "<Figure size 432x288 with 2 Axes>"
      ]
     },
     "metadata": {
      "needs_background": "light"
     },
     "output_type": "display_data"
    },
    {
     "data": {
      "image/png": "[encoded data removed]",
      "text/plain": [
       "<Figure size 432x288 with 2 Axes>"
      ]
     },
     "metadata": {
      "needs_background": "light"
     },
     "output_type": "display_data"
    }
   ],
   "source": [
    "gropued = y.groupby([ 'gamma','epsilon'])\n",
    "avg_cln = gropued['cleaned'].mean().unstack()\n",
    "sns.heatmap(avg_cln)\n",
    "plt.title(\"average cleanliness\")\n",
    "#plt.savefig('mc-epsilonxgamma-clean.png')\n",
    "plt.show()\n",
    "gropued = x.groupby([ 'gamma','epsilon'])\n",
    "avg_cln = gropued['efficiency'].mean().unstack()\n",
    "sns.heatmap(avg_cln)\n",
    "plt.title(\"average efficiency\")\n",
    "#plt.savefig('mc-epsilonxgamma-eff.png')\n",
    "plt.show()"
   ]
  }
 ],
 "metadata": {
  "kernelspec": {
   "display_name": "Python 3 (ipykernel)",
   "language": "python",
   "name": "python3"
  },
  "language_info": {
   "codemirror_mode": {
    "name": "ipython",
    "version": 3
   },
   "file_extension": ".py",
   "mimetype": "text/x-python",
   "name": "python",
   "nbconvert_exporter": "python",
   "pygments_lexer": "ipython3",
   "version": "3.9.7"
  }
 },
 "nbformat": 4,
 "nbformat_minor": 5
}
